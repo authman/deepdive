{
 "cells": [
  {
   "cell_type": "code",
   "execution_count": 1,
   "metadata": {},
   "outputs": [
    {
     "name": "stderr",
     "output_type": "stream",
     "text": [
      "/home/rohit/anaconda3/envs/fastai/lib/python3.6/site-packages/h5py/__init__.py:36: FutureWarning: Conversion of the second argument of issubdtype from `float` to `np.floating` is deprecated. In future, it will be treated as `np.float64 == np.dtype(float).type`.\n",
      "  from ._conv import register_converters as _register_converters\n",
      "Using TensorFlow backend.\n"
     ]
    }
   ],
   "source": [
    "from keras.datasets import boston_housing"
   ]
  },
  {
   "cell_type": "code",
   "execution_count": 2,
   "metadata": {},
   "outputs": [],
   "source": [
    "(train_data, train_labels), (test_data, test_labels) = boston_housing.load_data()"
   ]
  },
  {
   "cell_type": "code",
   "execution_count": 3,
   "metadata": {},
   "outputs": [
    {
     "data": {
      "text/plain": [
       "array([15.2, 42.3, 50. , 21.1, 17.7, 18.5, 11.3, 15.6, 15.6, 14.4])"
      ]
     },
     "execution_count": 3,
     "metadata": {},
     "output_type": "execute_result"
    }
   ],
   "source": [
    "train_labels[:10]"
   ]
  },
  {
   "cell_type": "code",
   "execution_count": 4,
   "metadata": {},
   "outputs": [
    {
     "data": {
      "text/plain": [
       "((404, 13), (102, 13))"
      ]
     },
     "execution_count": 4,
     "metadata": {},
     "output_type": "execute_result"
    }
   ],
   "source": [
    "train_data.shape, test_data.shape"
   ]
  },
  {
   "cell_type": "code",
   "execution_count": 5,
   "metadata": {},
   "outputs": [
    {
     "data": {
      "text/plain": [
       "(102, 13)"
      ]
     },
     "execution_count": 5,
     "metadata": {},
     "output_type": "execute_result"
    }
   ],
   "source": [
    "test_data.shape"
   ]
  },
  {
   "cell_type": "code",
   "execution_count": 6,
   "metadata": {},
   "outputs": [],
   "source": [
    "from keras import layers\n",
    "from keras import models"
   ]
  },
  {
   "cell_type": "code",
   "execution_count": 7,
   "metadata": {},
   "outputs": [
    {
     "data": {
      "text/plain": [
       "13"
      ]
     },
     "execution_count": 7,
     "metadata": {},
     "output_type": "execute_result"
    }
   ],
   "source": [
    "len(train_data[0])"
   ]
  },
  {
   "cell_type": "code",
   "execution_count": 8,
   "metadata": {},
   "outputs": [],
   "source": [
    "mean = train_data.mean(axis=0)\n",
    "train_data -= mean\n",
    "\n",
    "std = train_data.std(axis=0)\n",
    "train_data /= std\n",
    "\n",
    "test_data -= mean\n",
    "test_data /=std"
   ]
  },
  {
   "cell_type": "code",
   "execution_count": 9,
   "metadata": {},
   "outputs": [],
   "source": [
    "x_val = train_data[:100]\n",
    "y_val = train_labels[:100]\n",
    "partial_x_train = train_data[100:]\n",
    "partial_y_train = train_labels[100:]"
   ]
  },
  {
   "cell_type": "code",
   "execution_count": 10,
   "metadata": {},
   "outputs": [
    {
     "data": {
      "text/plain": [
       "13"
      ]
     },
     "execution_count": 10,
     "metadata": {},
     "output_type": "execute_result"
    }
   ],
   "source": [
    "train_data.shape[1]"
   ]
  },
  {
   "cell_type": "code",
   "execution_count": 11,
   "metadata": {},
   "outputs": [],
   "source": [
    "network = models.Sequential()\n",
    "\n",
    "network.add(layers.Dense(64, activation='relu', input_shape=(train_data.shape[1],)))\n",
    "network.add(layers.Dense(64, activation='relu'))\n",
    "network.add(layers.Dense(1))\n",
    "\n",
    "network.compile(optimizer='adam', loss='mse', metrics=['mae'])"
   ]
  },
  {
   "cell_type": "code",
   "execution_count": 44,
   "metadata": {},
   "outputs": [
    {
     "name": "stdout",
     "output_type": "stream",
     "text": [
      "Train on 304 samples, validate on 100 samples\n",
      "Epoch 1/100\n",
      "304/304 [==============================] - 0s 249us/step - loss: 1.7161 - mean_absolute_error: 0.9825 - val_loss: 7.7302 - val_mean_absolute_error: 1.9252\n",
      "Epoch 2/100\n",
      "304/304 [==============================] - 0s 239us/step - loss: 1.3914 - mean_absolute_error: 0.8432 - val_loss: 7.5059 - val_mean_absolute_error: 1.8584\n",
      "Epoch 3/100\n",
      "304/304 [==============================] - 0s 229us/step - loss: 1.1803 - mean_absolute_error: 0.7678 - val_loss: 7.5366 - val_mean_absolute_error: 1.8623\n",
      "Epoch 4/100\n",
      "304/304 [==============================] - 0s 237us/step - loss: 1.1119 - mean_absolute_error: 0.7409 - val_loss: 7.5702 - val_mean_absolute_error: 1.8655\n",
      "Epoch 5/100\n",
      "304/304 [==============================] - 0s 231us/step - loss: 1.0456 - mean_absolute_error: 0.7202 - val_loss: 7.5635 - val_mean_absolute_error: 1.8646\n",
      "Epoch 6/100\n",
      "304/304 [==============================] - 0s 242us/step - loss: 1.0007 - mean_absolute_error: 0.7034 - val_loss: 7.6125 - val_mean_absolute_error: 1.8804\n",
      "Epoch 7/100\n",
      "304/304 [==============================] - 0s 239us/step - loss: 0.9987 - mean_absolute_error: 0.7018 - val_loss: 7.6796 - val_mean_absolute_error: 1.8922\n",
      "Epoch 8/100\n",
      "304/304 [==============================] - 0s 237us/step - loss: 0.9594 - mean_absolute_error: 0.6871 - val_loss: 7.6356 - val_mean_absolute_error: 1.8810\n",
      "Epoch 9/100\n",
      "304/304 [==============================] - 0s 235us/step - loss: 0.9617 - mean_absolute_error: 0.6865 - val_loss: 7.6550 - val_mean_absolute_error: 1.8911\n",
      "Epoch 10/100\n",
      "304/304 [==============================] - 0s 235us/step - loss: 0.9358 - mean_absolute_error: 0.6788 - val_loss: 7.6341 - val_mean_absolute_error: 1.8661\n",
      "Epoch 11/100\n",
      "304/304 [==============================] - 0s 233us/step - loss: 0.9308 - mean_absolute_error: 0.6703 - val_loss: 7.6741 - val_mean_absolute_error: 1.8917\n",
      "Epoch 12/100\n",
      "304/304 [==============================] - 0s 245us/step - loss: 0.9212 - mean_absolute_error: 0.6681 - val_loss: 7.6843 - val_mean_absolute_error: 1.8881\n",
      "Epoch 13/100\n",
      "304/304 [==============================] - 0s 238us/step - loss: 0.9097 - mean_absolute_error: 0.6623 - val_loss: 7.6640 - val_mean_absolute_error: 1.8732\n",
      "Epoch 14/100\n",
      "304/304 [==============================] - 0s 233us/step - loss: 0.9217 - mean_absolute_error: 0.6700 - val_loss: 7.6595 - val_mean_absolute_error: 1.8788\n",
      "Epoch 15/100\n",
      "304/304 [==============================] - 0s 240us/step - loss: 0.9016 - mean_absolute_error: 0.6546 - val_loss: 7.7172 - val_mean_absolute_error: 1.8937\n",
      "Epoch 16/100\n",
      "304/304 [==============================] - 0s 225us/step - loss: 0.8991 - mean_absolute_error: 0.6510 - val_loss: 7.7062 - val_mean_absolute_error: 1.8911\n",
      "Epoch 17/100\n",
      "304/304 [==============================] - 0s 224us/step - loss: 0.8980 - mean_absolute_error: 0.6576 - val_loss: 7.7044 - val_mean_absolute_error: 1.8921\n",
      "Epoch 18/100\n",
      "304/304 [==============================] - 0s 233us/step - loss: 0.8956 - mean_absolute_error: 0.6551 - val_loss: 7.7026 - val_mean_absolute_error: 1.8753\n",
      "Epoch 19/100\n",
      "304/304 [==============================] - 0s 234us/step - loss: 0.8866 - mean_absolute_error: 0.6480 - val_loss: 7.7109 - val_mean_absolute_error: 1.8908\n",
      "Epoch 20/100\n",
      "304/304 [==============================] - 0s 245us/step - loss: 0.8885 - mean_absolute_error: 0.6490 - val_loss: 7.7736 - val_mean_absolute_error: 1.8989\n",
      "Epoch 21/100\n",
      "304/304 [==============================] - 0s 245us/step - loss: 0.8858 - mean_absolute_error: 0.6470 - val_loss: 7.6702 - val_mean_absolute_error: 1.8740\n",
      "Epoch 22/100\n",
      "304/304 [==============================] - 0s 232us/step - loss: 0.8774 - mean_absolute_error: 0.6442 - val_loss: 7.7260 - val_mean_absolute_error: 1.8816\n",
      "Epoch 23/100\n",
      "304/304 [==============================] - 0s 239us/step - loss: 0.8694 - mean_absolute_error: 0.6386 - val_loss: 7.7491 - val_mean_absolute_error: 1.8799\n",
      "Epoch 24/100\n",
      "304/304 [==============================] - 0s 230us/step - loss: 0.8779 - mean_absolute_error: 0.6502 - val_loss: 7.6908 - val_mean_absolute_error: 1.8714\n",
      "Epoch 25/100\n",
      "304/304 [==============================] - 0s 235us/step - loss: 0.8644 - mean_absolute_error: 0.6371 - val_loss: 7.7352 - val_mean_absolute_error: 1.8826\n",
      "Epoch 26/100\n",
      "304/304 [==============================] - 0s 231us/step - loss: 0.8718 - mean_absolute_error: 0.6313 - val_loss: 7.6903 - val_mean_absolute_error: 1.8743\n",
      "Epoch 27/100\n",
      "304/304 [==============================] - 0s 244us/step - loss: 0.8853 - mean_absolute_error: 0.6552 - val_loss: 7.7207 - val_mean_absolute_error: 1.8705\n",
      "Epoch 28/100\n",
      "304/304 [==============================] - 0s 233us/step - loss: 0.8576 - mean_absolute_error: 0.6235 - val_loss: 7.7793 - val_mean_absolute_error: 1.8939\n",
      "Epoch 29/100\n",
      "304/304 [==============================] - 0s 229us/step - loss: 0.8582 - mean_absolute_error: 0.6376 - val_loss: 7.7438 - val_mean_absolute_error: 1.8857\n",
      "Epoch 30/100\n",
      "304/304 [==============================] - 0s 234us/step - loss: 0.8548 - mean_absolute_error: 0.6300 - val_loss: 7.7805 - val_mean_absolute_error: 1.8947\n",
      "Epoch 31/100\n",
      "304/304 [==============================] - 0s 231us/step - loss: 0.8434 - mean_absolute_error: 0.6270 - val_loss: 7.7624 - val_mean_absolute_error: 1.8759\n",
      "Epoch 32/100\n",
      "304/304 [==============================] - 0s 233us/step - loss: 0.8572 - mean_absolute_error: 0.6264 - val_loss: 7.7715 - val_mean_absolute_error: 1.8754\n",
      "Epoch 33/100\n",
      "304/304 [==============================] - 0s 239us/step - loss: 0.8424 - mean_absolute_error: 0.6304 - val_loss: 7.7336 - val_mean_absolute_error: 1.8789\n",
      "Epoch 34/100\n",
      "304/304 [==============================] - 0s 230us/step - loss: 0.8429 - mean_absolute_error: 0.6240 - val_loss: 7.7740 - val_mean_absolute_error: 1.8829\n",
      "Epoch 35/100\n",
      "304/304 [==============================] - 0s 234us/step - loss: 0.8443 - mean_absolute_error: 0.6275 - val_loss: 7.7594 - val_mean_absolute_error: 1.8825\n",
      "Epoch 36/100\n",
      "304/304 [==============================] - 0s 233us/step - loss: 0.8411 - mean_absolute_error: 0.6242 - val_loss: 7.7457 - val_mean_absolute_error: 1.8783\n",
      "Epoch 37/100\n",
      "304/304 [==============================] - 0s 246us/step - loss: 0.8405 - mean_absolute_error: 0.6272 - val_loss: 7.7451 - val_mean_absolute_error: 1.8716\n",
      "Epoch 38/100\n",
      "304/304 [==============================] - 0s 230us/step - loss: 0.8328 - mean_absolute_error: 0.6192 - val_loss: 7.8376 - val_mean_absolute_error: 1.8983\n",
      "Epoch 39/100\n",
      "304/304 [==============================] - 0s 236us/step - loss: 0.8466 - mean_absolute_error: 0.6212 - val_loss: 7.7753 - val_mean_absolute_error: 1.8745\n",
      "Epoch 40/100\n",
      "304/304 [==============================] - 0s 241us/step - loss: 0.8338 - mean_absolute_error: 0.6318 - val_loss: 7.8030 - val_mean_absolute_error: 1.8935\n",
      "Epoch 41/100\n",
      "304/304 [==============================] - 0s 240us/step - loss: 0.8523 - mean_absolute_error: 0.6310 - val_loss: 7.8537 - val_mean_absolute_error: 1.8909\n",
      "Epoch 42/100\n",
      "304/304 [==============================] - 0s 231us/step - loss: 0.8172 - mean_absolute_error: 0.6145 - val_loss: 7.8035 - val_mean_absolute_error: 1.8915\n",
      "Epoch 43/100\n",
      "304/304 [==============================] - 0s 251us/step - loss: 0.8304 - mean_absolute_error: 0.6178 - val_loss: 7.7694 - val_mean_absolute_error: 1.8821\n",
      "Epoch 44/100\n",
      "304/304 [==============================] - 0s 231us/step - loss: 0.8258 - mean_absolute_error: 0.6353 - val_loss: 7.8164 - val_mean_absolute_error: 1.8729\n",
      "Epoch 45/100\n",
      "304/304 [==============================] - 0s 238us/step - loss: 0.8218 - mean_absolute_error: 0.6194 - val_loss: 7.8252 - val_mean_absolute_error: 1.9025\n",
      "Epoch 46/100\n",
      "304/304 [==============================] - 0s 231us/step - loss: 0.8166 - mean_absolute_error: 0.6141 - val_loss: 7.8645 - val_mean_absolute_error: 1.8947\n",
      "Epoch 47/100\n",
      "304/304 [==============================] - 0s 241us/step - loss: 0.8169 - mean_absolute_error: 0.6126 - val_loss: 7.8446 - val_mean_absolute_error: 1.8905\n",
      "Epoch 48/100\n",
      "304/304 [==============================] - 0s 233us/step - loss: 0.8077 - mean_absolute_error: 0.6126 - val_loss: 7.8205 - val_mean_absolute_error: 1.8950\n",
      "Epoch 49/100\n"
     ]
    },
    {
     "name": "stdout",
     "output_type": "stream",
     "text": [
      "304/304 [==============================] - 0s 231us/step - loss: 0.8271 - mean_absolute_error: 0.6222 - val_loss: 7.8224 - val_mean_absolute_error: 1.8775\n",
      "Epoch 50/100\n",
      "304/304 [==============================] - 0s 232us/step - loss: 0.8275 - mean_absolute_error: 0.6113 - val_loss: 7.9228 - val_mean_absolute_error: 1.9142\n",
      "Epoch 51/100\n",
      "304/304 [==============================] - 0s 242us/step - loss: 0.8080 - mean_absolute_error: 0.6090 - val_loss: 7.8124 - val_mean_absolute_error: 1.8844\n",
      "Epoch 52/100\n",
      "304/304 [==============================] - 0s 233us/step - loss: 0.8018 - mean_absolute_error: 0.6149 - val_loss: 7.8011 - val_mean_absolute_error: 1.8761\n",
      "Epoch 53/100\n",
      "304/304 [==============================] - 0s 226us/step - loss: 0.7964 - mean_absolute_error: 0.6023 - val_loss: 7.9092 - val_mean_absolute_error: 1.9128\n",
      "Epoch 54/100\n",
      "304/304 [==============================] - 0s 232us/step - loss: 0.7893 - mean_absolute_error: 0.6007 - val_loss: 7.8836 - val_mean_absolute_error: 1.8953\n",
      "Epoch 55/100\n",
      "304/304 [==============================] - 0s 238us/step - loss: 0.7962 - mean_absolute_error: 0.6029 - val_loss: 7.8102 - val_mean_absolute_error: 1.8826\n",
      "Epoch 56/100\n",
      "304/304 [==============================] - 0s 241us/step - loss: 0.7893 - mean_absolute_error: 0.6009 - val_loss: 7.8364 - val_mean_absolute_error: 1.8806\n",
      "Epoch 57/100\n",
      "304/304 [==============================] - 0s 230us/step - loss: 0.7794 - mean_absolute_error: 0.5970 - val_loss: 7.8754 - val_mean_absolute_error: 1.9007\n",
      "Epoch 58/100\n",
      "304/304 [==============================] - 0s 237us/step - loss: 0.7897 - mean_absolute_error: 0.6183 - val_loss: 7.8281 - val_mean_absolute_error: 1.8835\n",
      "Epoch 59/100\n",
      "304/304 [==============================] - 0s 236us/step - loss: 0.8214 - mean_absolute_error: 0.6114 - val_loss: 7.9289 - val_mean_absolute_error: 1.9143\n",
      "Epoch 60/100\n",
      "304/304 [==============================] - 0s 233us/step - loss: 0.7887 - mean_absolute_error: 0.6005 - val_loss: 7.8117 - val_mean_absolute_error: 1.8734\n",
      "Epoch 61/100\n",
      "304/304 [==============================] - 0s 241us/step - loss: 0.7974 - mean_absolute_error: 0.6173 - val_loss: 7.8058 - val_mean_absolute_error: 1.8710\n",
      "Epoch 62/100\n",
      "304/304 [==============================] - 0s 232us/step - loss: 0.7760 - mean_absolute_error: 0.5994 - val_loss: 7.9232 - val_mean_absolute_error: 1.9089\n",
      "Epoch 63/100\n",
      "304/304 [==============================] - 0s 235us/step - loss: 0.7802 - mean_absolute_error: 0.6178 - val_loss: 7.8369 - val_mean_absolute_error: 1.8825\n",
      "Epoch 64/100\n",
      "304/304 [==============================] - 0s 232us/step - loss: 0.8143 - mean_absolute_error: 0.6072 - val_loss: 7.8786 - val_mean_absolute_error: 1.8999\n",
      "Epoch 65/100\n",
      "304/304 [==============================] - 0s 235us/step - loss: 0.7725 - mean_absolute_error: 0.6022 - val_loss: 7.8590 - val_mean_absolute_error: 1.8908\n",
      "Epoch 66/100\n",
      "304/304 [==============================] - 0s 238us/step - loss: 0.7855 - mean_absolute_error: 0.5978 - val_loss: 7.9412 - val_mean_absolute_error: 1.9170\n",
      "Epoch 67/100\n",
      "304/304 [==============================] - 0s 255us/step - loss: 0.7922 - mean_absolute_error: 0.6358 - val_loss: 7.8828 - val_mean_absolute_error: 1.8793\n",
      "Epoch 68/100\n",
      "304/304 [==============================] - 0s 238us/step - loss: 0.8093 - mean_absolute_error: 0.6336 - val_loss: 8.0480 - val_mean_absolute_error: 1.9450\n",
      "Epoch 69/100\n",
      "304/304 [==============================] - 0s 234us/step - loss: 0.7543 - mean_absolute_error: 0.5987 - val_loss: 7.8240 - val_mean_absolute_error: 1.8708\n",
      "Epoch 70/100\n",
      "304/304 [==============================] - 0s 231us/step - loss: 0.7784 - mean_absolute_error: 0.5936 - val_loss: 7.7959 - val_mean_absolute_error: 1.8634\n",
      "Epoch 71/100\n",
      "304/304 [==============================] - 0s 231us/step - loss: 0.7762 - mean_absolute_error: 0.5988 - val_loss: 7.8546 - val_mean_absolute_error: 1.8816\n",
      "Epoch 72/100\n",
      "304/304 [==============================] - 0s 237us/step - loss: 0.7861 - mean_absolute_error: 0.6008 - val_loss: 7.9311 - val_mean_absolute_error: 1.9233\n",
      "Epoch 73/100\n",
      "304/304 [==============================] - 0s 236us/step - loss: 0.7643 - mean_absolute_error: 0.5894 - val_loss: 7.9023 - val_mean_absolute_error: 1.8809\n",
      "Epoch 74/100\n",
      "304/304 [==============================] - 0s 230us/step - loss: 0.7650 - mean_absolute_error: 0.5944 - val_loss: 7.8541 - val_mean_absolute_error: 1.8804\n",
      "Epoch 75/100\n",
      "304/304 [==============================] - 0s 224us/step - loss: 0.7517 - mean_absolute_error: 0.5915 - val_loss: 8.0067 - val_mean_absolute_error: 1.9347\n",
      "Epoch 76/100\n",
      "304/304 [==============================] - 0s 244us/step - loss: 0.7474 - mean_absolute_error: 0.5862 - val_loss: 7.9128 - val_mean_absolute_error: 1.8850\n",
      "Epoch 77/100\n",
      "304/304 [==============================] - 0s 232us/step - loss: 0.7463 - mean_absolute_error: 0.5873 - val_loss: 7.9004 - val_mean_absolute_error: 1.9095\n",
      "Epoch 78/100\n",
      "304/304 [==============================] - 0s 234us/step - loss: 0.7436 - mean_absolute_error: 0.5796 - val_loss: 7.9863 - val_mean_absolute_error: 1.9114\n",
      "Epoch 79/100\n",
      "304/304 [==============================] - 0s 228us/step - loss: 0.7433 - mean_absolute_error: 0.5796 - val_loss: 7.9717 - val_mean_absolute_error: 1.9172\n",
      "Epoch 80/100\n",
      "304/304 [==============================] - 0s 229us/step - loss: 0.7453 - mean_absolute_error: 0.5889 - val_loss: 7.9327 - val_mean_absolute_error: 1.8798\n",
      "Epoch 81/100\n",
      "304/304 [==============================] - 0s 233us/step - loss: 0.7425 - mean_absolute_error: 0.5715 - val_loss: 8.0419 - val_mean_absolute_error: 1.9334\n",
      "Epoch 82/100\n",
      "304/304 [==============================] - 0s 230us/step - loss: 0.7477 - mean_absolute_error: 0.6012 - val_loss: 7.8370 - val_mean_absolute_error: 1.8692\n",
      "Epoch 83/100\n",
      "304/304 [==============================] - 0s 233us/step - loss: 0.7439 - mean_absolute_error: 0.5885 - val_loss: 7.9565 - val_mean_absolute_error: 1.8937\n",
      "Epoch 84/100\n",
      "304/304 [==============================] - 0s 224us/step - loss: 0.7522 - mean_absolute_error: 0.5834 - val_loss: 7.9401 - val_mean_absolute_error: 1.8912\n",
      "Epoch 85/100\n",
      "304/304 [==============================] - 0s 237us/step - loss: 0.7462 - mean_absolute_error: 0.5857 - val_loss: 8.1081 - val_mean_absolute_error: 1.9312\n",
      "Epoch 86/100\n",
      "304/304 [==============================] - 0s 235us/step - loss: 0.7453 - mean_absolute_error: 0.5889 - val_loss: 7.9086 - val_mean_absolute_error: 1.8824\n",
      "Epoch 87/100\n",
      "304/304 [==============================] - 0s 236us/step - loss: 0.7587 - mean_absolute_error: 0.5904 - val_loss: 7.9326 - val_mean_absolute_error: 1.8816\n",
      "Epoch 88/100\n",
      "304/304 [==============================] - 0s 229us/step - loss: 0.7304 - mean_absolute_error: 0.5878 - val_loss: 7.9718 - val_mean_absolute_error: 1.8986\n",
      "Epoch 89/100\n",
      "304/304 [==============================] - 0s 281us/step - loss: 0.7311 - mean_absolute_error: 0.5796 - val_loss: 7.9575 - val_mean_absolute_error: 1.9133\n",
      "Epoch 90/100\n",
      "304/304 [==============================] - 0s 235us/step - loss: 0.7177 - mean_absolute_error: 0.5796 - val_loss: 8.0083 - val_mean_absolute_error: 1.9048\n",
      "Epoch 91/100\n",
      "304/304 [==============================] - 0s 230us/step - loss: 0.7377 - mean_absolute_error: 0.5789 - val_loss: 7.9616 - val_mean_absolute_error: 1.8928\n",
      "Epoch 92/100\n",
      "304/304 [==============================] - 0s 230us/step - loss: 0.7075 - mean_absolute_error: 0.5644 - val_loss: 8.0533 - val_mean_absolute_error: 1.9301\n",
      "Epoch 93/100\n",
      "304/304 [==============================] - 0s 233us/step - loss: 0.7095 - mean_absolute_error: 0.5744 - val_loss: 8.0210 - val_mean_absolute_error: 1.8951\n",
      "Epoch 94/100\n",
      "304/304 [==============================] - 0s 226us/step - loss: 0.7184 - mean_absolute_error: 0.5761 - val_loss: 8.0827 - val_mean_absolute_error: 1.9565\n",
      "Epoch 95/100\n",
      "304/304 [==============================] - 0s 230us/step - loss: 0.7167 - mean_absolute_error: 0.5716 - val_loss: 8.0343 - val_mean_absolute_error: 1.9072\n",
      "Epoch 96/100\n",
      "304/304 [==============================] - 0s 228us/step - loss: 0.7537 - mean_absolute_error: 0.6131 - val_loss: 8.0392 - val_mean_absolute_error: 1.9313\n",
      "Epoch 97/100\n",
      "304/304 [==============================] - 0s 226us/step - loss: 0.7253 - mean_absolute_error: 0.5852 - val_loss: 8.0174 - val_mean_absolute_error: 1.8969\n"
     ]
    },
    {
     "name": "stdout",
     "output_type": "stream",
     "text": [
      "Epoch 98/100\n",
      "304/304 [==============================] - 0s 226us/step - loss: 0.6928 - mean_absolute_error: 0.5561 - val_loss: 8.0923 - val_mean_absolute_error: 1.9401\n",
      "Epoch 99/100\n",
      "304/304 [==============================] - 0s 223us/step - loss: 0.7433 - mean_absolute_error: 0.5862 - val_loss: 8.0054 - val_mean_absolute_error: 1.9042\n",
      "Epoch 100/100\n",
      "304/304 [==============================] - 0s 230us/step - loss: 0.7069 - mean_absolute_error: 0.5763 - val_loss: 8.0455 - val_mean_absolute_error: 1.9033\n"
     ]
    }
   ],
   "source": [
    "history = network.fit(partial_x_train, partial_y_train, batch_size=16, epochs=100, validation_data=(x_val, y_val))"
   ]
  },
  {
   "cell_type": "code",
   "execution_count": 45,
   "metadata": {},
   "outputs": [
    {
     "name": "stdout",
     "output_type": "stream",
     "text": [
      "404/404 [==============================] - 0s 35us/step\n"
     ]
    },
    {
     "data": {
      "text/plain": [
       "[2.5004731437357344, 0.8899544807943968]"
      ]
     },
     "execution_count": 45,
     "metadata": {},
     "output_type": "execute_result"
    }
   ],
   "source": [
    "network.evaluate(train_data, train_labels)"
   ]
  },
  {
   "cell_type": "code",
   "execution_count": 46,
   "metadata": {},
   "outputs": [],
   "source": [
    "import matplotlib.pyplot as plt\n",
    "%matplotlib inline"
   ]
  },
  {
   "cell_type": "code",
   "execution_count": 47,
   "metadata": {},
   "outputs": [
    {
     "data": {
      "text/plain": [
       "dict_keys(['val_loss', 'val_mean_absolute_error', 'loss', 'mean_absolute_error'])"
      ]
     },
     "execution_count": 47,
     "metadata": {},
     "output_type": "execute_result"
    }
   ],
   "source": [
    "history.history.keys()"
   ]
  },
  {
   "cell_type": "code",
   "execution_count": 48,
   "metadata": {},
   "outputs": [],
   "source": [
    "history_dict = history.history"
   ]
  },
  {
   "cell_type": "code",
   "execution_count": 49,
   "metadata": {},
   "outputs": [],
   "source": [
    "loss_values = history_dict['loss']\n",
    "val_loss_values = history_dict['val_loss']"
   ]
  },
  {
   "cell_type": "code",
   "execution_count": 50,
   "metadata": {},
   "outputs": [],
   "source": [
    "epochs = range(1, len(loss_values)+1)"
   ]
  },
  {
   "cell_type": "code",
   "execution_count": 51,
   "metadata": {},
   "outputs": [
    {
     "data": {
      "image/png": "[encoded data removed]",
      "text/plain": [
       "<matplotlib.figure.Figure at 0x7fda3121deb8>"
      ]
     },
     "metadata": {},
     "output_type": "display_data"
    }
   ],
   "source": [
    "plt.plot(epochs, loss_values, 'bo', label='Training loss')\n",
    "plt.plot(epochs, val_loss_values, 'b', label='Validation loss')\n",
    "plt.title('Training and validation loss')\n",
    "plt.xlabel('Epochs')\n",
    "plt.ylabel('Loss')\n",
    "plt.legend()\n",
    "\n",
    "plt.show()"
   ]
  },
  {
   "cell_type": "code",
   "execution_count": 52,
   "metadata": {},
   "outputs": [],
   "source": [
    "acc_values = history_dict['mean_absolute_error']\n",
    "val_acc_values = history_dict['val_mean_absolute_error']"
   ]
  },
  {
   "cell_type": "code",
   "execution_count": 55,
   "metadata": {},
   "outputs": [
    {
     "data": {
      "image/png": "[encoded data removed]",
      "text/plain": [
       "<matplotlib.figure.Figure at 0x7fda3109c390>"
      ]
     },
     "metadata": {},
     "output_type": "display_data"
    }
   ],
   "source": [
    "plt.plot(epochs, acc_values, 'bo', label='Training accuracy')\n",
    "plt.plot(epochs, val_acc_values, 'b', label='Validation accuracy')\n",
    "plt.title('Training and validation accuracy')\n",
    "plt.xlabel('Epochs')\n",
    "plt.ylabel('MAE')\n",
    "plt.legend()\n",
    "\n",
    "plt.show()"
   ]
  },
  {
   "cell_type": "code",
   "execution_count": 46,
   "metadata": {},
   "outputs": [
    {
     "data": {
      "text/plain": [
       "3"
      ]
     },
     "execution_count": 46,
     "metadata": {},
     "output_type": "execute_result"
    }
   ],
   "source": [
    "predictions[0].argmax()"
   ]
  },
  {
   "cell_type": "code",
   "execution_count": null,
   "metadata": {},
   "outputs": [],
   "source": []
  }
 ],
 "metadata": {
  "kernelspec": {
   "display_name": "Python 3",
   "language": "python",
   "name": "python3"
  },
  "language_info": {
   "codemirror_mode": {
    "name": "ipython",
    "version": 3
   },
   "file_extension": ".py",
   "mimetype": "text/x-python",
   "name": "python",
   "nbconvert_exporter": "python",
   "pygments_lexer": "ipython3",
   "version": "3.6.4"
  },
  "varInspector": {
   "cols": {
    "lenName": 16,
    "lenType": 16,
    "lenVar": 40
   },
   "kernels_config": {
    "python": {
     "delete_cmd_postfix": "",
     "delete_cmd_prefix": "del ",
     "library": "var_list.py",
     "varRefreshCmd": "print(var_dic_list())"
    },
    "r": {
     "delete_cmd_postfix": ") ",
     "delete_cmd_prefix": "rm(",
     "library": "var_list.r",
     "varRefreshCmd": "cat(var_dic_list()) "
    }
   },
   "types_to_exclude": [
    "module",
    "function",
    "builtin_function_or_method",
    "instance",
    "_Feature"
   ],
   "window_display": false
  }
 },
 "nbformat": 4,
 "nbformat_minor": 2
}
